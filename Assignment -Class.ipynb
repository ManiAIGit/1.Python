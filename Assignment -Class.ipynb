{
 "cells": [
  {
   "cell_type": "markdown",
   "metadata": {},
   "source": [
    "# Class Assignment"
   ]
  },
  {
   "cell_type": "code",
   "execution_count": 4,
   "metadata": {},
   "outputs": [],
   "source": [
    "class SubFieldsInAI():\n",
    "    def Subfields():\n",
    "        print('''\n",
    "        Sub-fields in AI are:\n",
    "        Machine Learning\n",
    "        Neural Networks\n",
    "        Vision\n",
    "        Robotics\n",
    "        Speech Processing\n",
    "        Natural Language Processing''')\n",
    "    def fields():\n",
    "        print(\"Sub-fields in AI are:\")\n",
    "        list=[\"Machine Learning\",\"Neural Networks\",\"Vision\",\"Robotics\",\"Speech Processing\",\"Natural Language Processing\"]\n",
    "        for i in list:\n",
    "            print(i)"
   ]
  },
  {
   "cell_type": "code",
   "execution_count": 5,
   "metadata": {},
   "outputs": [
    {
     "name": "stdout",
     "output_type": "stream",
     "text": [
      "Sub-fields in AI are:\n",
      "Machine Learning\n",
      "Neural Networks\n",
      "Vision\n",
      "Robotics\n",
      "Speech Processing\n",
      "Natural Language Processing\n"
     ]
    }
   ],
   "source": [
    "SubFieldsInAI.fields()"
   ]
  },
  {
   "cell_type": "code",
   "execution_count": 9,
   "metadata": {},
   "outputs": [],
   "source": [
    "class oddEven():    \n",
    "    def oddeven():\n",
    "        num=int(input(\"Enter the number to check Odd/even:\"))\n",
    "        if((num%2)==1):\n",
    "            print(num,\"is Odd Number\")\n",
    "        else:\n",
    "            print(num,\"is Even Number\")\n",
    "        "
   ]
  },
  {
   "cell_type": "code",
   "execution_count": 10,
   "metadata": {},
   "outputs": [
    {
     "name": "stdout",
     "output_type": "stream",
     "text": [
      "Enter the number to check Odd/even:9\n",
      "9 is Odd Number\n"
     ]
    }
   ],
   "source": [
    "oddEven.oddeven()"
   ]
  },
  {
   "cell_type": "code",
   "execution_count": 17,
   "metadata": {},
   "outputs": [],
   "source": [
    "class EligibilityForMarriage():\n",
    "    def Eligible():\n",
    "        gender=input(\"Your gender:\")\n",
    "        age=int(input(\"Your Age:\"))\n",
    "        if(gender==\"Male\"):\n",
    "            if(age>=18):\n",
    "                print(\"Eligible\")\n",
    "            else:\n",
    "                print(\"Not Eligible\")\n",
    "        elif(gender==\"Female\"):\n",
    "            if(age>=18):\n",
    "                print(\"Eligible\")\n",
    "            else:\n",
    "                print(\"Not Eligible\")\n",
    "        else:\n",
    "            print(\"Invalid input\")"
   ]
  },
  {
   "cell_type": "code",
   "execution_count": 18,
   "metadata": {},
   "outputs": [
    {
     "name": "stdout",
     "output_type": "stream",
     "text": [
      "Your gender:Male\n",
      "Your Age:25\n",
      "Eligible\n"
     ]
    }
   ],
   "source": [
    "EligibilityForMarriage.Eligible()"
   ]
  },
  {
   "cell_type": "code",
   "execution_count": 20,
   "metadata": {},
   "outputs": [],
   "source": [
    "class findpercent():\n",
    "    def percentage():\n",
    "        S1=int(input(\"Subject1=\"))\n",
    "        S2=int(input(\"Subject2=\"))\n",
    "        S3=int(input(\"Subject3=\"))\n",
    "        S4=int(input(\"Subject4=\"))\n",
    "        S5=int(input(\"Subject5=\"))\n",
    "        Total=S1+S2+S3+S4+S5\n",
    "        print(\"Total:\",Total)\n",
    "        percent=(Total/500)*100\n",
    "        print(\"Percentage:\",percent)\n"
   ]
  },
  {
   "cell_type": "code",
   "execution_count": 21,
   "metadata": {},
   "outputs": [
    {
     "name": "stdout",
     "output_type": "stream",
     "text": [
      "Subject1=56\n",
      "Subject2=45\n",
      "Subject3=85\n",
      "Subject4=96\n",
      "Subject5=35\n",
      "Total: 317\n",
      "Percentage: 63.4\n"
     ]
    }
   ],
   "source": [
    "findpercent.percentage()"
   ]
  },
  {
   "cell_type": "code",
   "execution_count": 22,
   "metadata": {},
   "outputs": [],
   "source": [
    "class triangles():\n",
    "    def triangle():\n",
    "        Height=int(input(\"Height:\"))\n",
    "        Breadth=int(input(\"Breadth:\"))\n",
    "        print(\"Area Formula:(Height*Breadth)/2 \")\n",
    "        Area=(Height*Breadth)/2\n",
    "        print(\"Area of Triangle:\",Area)\n",
    "        Height1=int(input(\"Height1:\"))\n",
    "        Height2=int(input(\"Height2:\"))\n",
    "        Breadth1=int(input(\"Breadth1:\"))\n",
    "        Perimeter=(Height1+Height2+Breadth1)\n",
    "        print(\"Perimeter formula:Height1+Height2+Breadth1\")\n",
    "        print(\"Perimeter of triangle:\",Perimeter)"
   ]
  },
  {
   "cell_type": "code",
   "execution_count": 23,
   "metadata": {},
   "outputs": [
    {
     "name": "stdout",
     "output_type": "stream",
     "text": [
      "Height:10\n",
      "Breadth:20\n",
      "Area Formula:(Height*Breadth)/2 \n",
      "Area of Triangle: 100.0\n",
      "Height1:50\n",
      "Height2:56\n",
      "Breadth1:58\n",
      "Perimeter formula:Height1+Height2+Breadth1\n",
      "Perimeter of triangle: 164\n"
     ]
    }
   ],
   "source": [
    "triangles.triangle()"
   ]
  },
  {
   "cell_type": "code",
   "execution_count": null,
   "metadata": {},
   "outputs": [],
   "source": []
  },
  {
   "cell_type": "code",
   "execution_count": null,
   "metadata": {},
   "outputs": [],
   "source": []
  }
 ],
 "metadata": {
  "kernelspec": {
   "display_name": "Python 3",
   "language": "python",
   "name": "python3"
  },
  "language_info": {
   "codemirror_mode": {
    "name": "ipython",
    "version": 3
   },
   "file_extension": ".py",
   "mimetype": "text/x-python",
   "name": "python",
   "nbconvert_exporter": "python",
   "pygments_lexer": "ipython3",
   "version": "3.7.4"
  }
 },
 "nbformat": 4,
 "nbformat_minor": 2
}
