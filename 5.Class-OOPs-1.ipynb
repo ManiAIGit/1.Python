{
 "cells": [
  {
   "cell_type": "code",
   "execution_count": null,
   "metadata": {},
   "outputs": [],
   "source": [
    "#If Loop\n",
    "if():\n",
    "    print(\"\")"
   ]
  },
  {
   "cell_type": "code",
   "execution_count": 3,
   "metadata": {},
   "outputs": [
    {
     "name": "stdout",
     "output_type": "stream",
     "text": [
      "Enter the age :18\n"
     ]
    }
   ],
   "source": [
    "age=int(input(\"Enter the age :\"))\n"
   ]
  },
  {
   "cell_type": "code",
   "execution_count": 4,
   "metadata": {},
   "outputs": [
    {
     "name": "stdout",
     "output_type": "stream",
     "text": [
      "Adult\n"
     ]
    }
   ],
   "source": [
    "if(age==18):\n",
    "        print(\"Adult\")"
   ]
  },
  {
   "cell_type": "code",
   "execution_count": 2,
   "metadata": {},
   "outputs": [
    {
     "name": "stdout",
     "output_type": "stream",
     "text": [
      "123\n"
     ]
    }
   ],
   "source": [
    "print(\"123\")"
   ]
  },
  {
   "cell_type": "code",
   "execution_count": null,
   "metadata": {},
   "outputs": [],
   "source": [
    "#if else\n",
    "if():\n",
    "    print(\"\")\n",
    "else:\n",
    "    print(\"\")"
   ]
  },
  {
   "cell_type": "code",
   "execution_count": 6,
   "metadata": {},
   "outputs": [
    {
     "name": "stdout",
     "output_type": "stream",
     "text": [
      "enter the age:52\n",
      "Adult\n"
     ]
    }
   ],
   "source": [
    "age=int(input(\"enter the age:\"))\n",
    "if(age<18):\n",
    "    print(\"Children\")\n",
    "else:\n",
    "    print(\"Adult\")"
   ]
  },
  {
   "cell_type": "code",
   "execution_count": null,
   "metadata": {},
   "outputs": [],
   "source": [
    "#if-elif\n",
    "if():\n",
    "    print(\"\")\n",
    "elif(): \n",
    "    print(\"\")\n",
    "elif():\n",
    "    print(\"\")\n",
    "else:\n",
    "    ptint(\"\")"
   ]
  },
  {
   "cell_type": "code",
   "execution_count": 10,
   "metadata": {},
   "outputs": [
    {
     "name": "stdout",
     "output_type": "stream",
     "text": [
      "enter the age:2\n",
      "Children\n"
     ]
    }
   ],
   "source": [
    "age=int(input(\"enter the age:\"))\n",
    "if(age<18):\n",
    "    print(\"Children\")\n",
    "elif(age<29):\n",
    "    print(\"Adult\")\n",
    "elif(age<59):\n",
    "    print(\"citizen\")\n",
    "else:\n",
    "    print(\"Senior Citizen\")"
   ]
  },
  {
   "cell_type": "code",
   "execution_count": null,
   "metadata": {},
   "outputs": [],
   "source": [
    "#for loop\n",
    "for tempvariable in mainvariable:\n",
    "    print(\"\")"
   ]
  },
  {
   "cell_type": "code",
   "execution_count": 12,
   "metadata": {},
   "outputs": [],
   "source": [
    "lists=[23,89,45,22,5]\n"
   ]
  },
  {
   "cell_type": "code",
   "execution_count": 14,
   "metadata": {},
   "outputs": [
    {
     "name": "stdout",
     "output_type": "stream",
     "text": [
      "23\n",
      "89\n",
      "45\n",
      "22\n",
      "5\n"
     ]
    }
   ],
   "source": [
    "for age in lists:\n",
    "    print(age)"
   ]
  },
  {
   "cell_type": "code",
   "execution_count": 17,
   "metadata": {},
   "outputs": [
    {
     "name": "stdout",
     "output_type": "stream",
     "text": [
      "Adult\n",
      "Senior Citizen\n",
      "citizen\n",
      "Adult\n",
      "Children\n"
     ]
    }
   ],
   "source": [
    "for age in lists:\n",
    "    if(age<18):\n",
    "        print(\"Children\")\n",
    "    elif(age<29):\n",
    "        print(\"Adult\")\n",
    "    elif(age<59):\n",
    "        print(\"citizen\")\n",
    "    else:\n",
    "        print(\"Senior Citizen\")"
   ]
  },
  {
   "cell_type": "code",
   "execution_count": 19,
   "metadata": {},
   "outputs": [
    {
     "name": "stdout",
     "output_type": "stream",
     "text": [
      "Adult- 23\n",
      "Senior Citizen- 89\n",
      "Citizen- 45\n",
      "Adult- 22\n",
      "Children- 5\n"
     ]
    }
   ],
   "source": [
    "for age in lists:\n",
    "    if(age<18):\n",
    "        print(\"Children-\",age)\n",
    "    elif(age<29):\n",
    "        print(\"Adult-\",age)\n",
    "    elif(age<59):\n",
    "        print(\"Citizen-\",age)\n",
    "    else:\n",
    "        print(\"Senior Citizen-\",age)"
   ]
  },
  {
   "cell_type": "code",
   "execution_count": 8,
   "metadata": {},
   "outputs": [
    {
     "name": "stdout",
     "output_type": "stream",
     "text": [
      "Enter the number:5\n",
      "Entered number is Odd\n"
     ]
    }
   ],
   "source": [
    "#Odd or Even\n",
    "num=int(input(\"Enter the number:\"))\n",
    "if((num%2)==0):\n",
    "    print(\"Entered number is Even\")\n",
    "else:\n",
    "    print(\"Entered number is Odd\")\n"
   ]
  },
  {
   "cell_type": "code",
   "execution_count": 9,
   "metadata": {},
   "outputs": [
    {
     "name": "stdout",
     "output_type": "stream",
     "text": [
      "Enter the number:5\n",
      "Entered number is Odd\n"
     ]
    }
   ],
   "source": [
    "#Odd or Even\n",
    "num=int(input(\"Enter the number:\"))\n",
    "if((num%2)==1):\n",
    "    print(\"Entered number is Odd\")\n",
    "else:\n",
    "    print(\"Entered number is Even\")\n"
   ]
  },
  {
   "cell_type": "code",
   "execution_count": 10,
   "metadata": {},
   "outputs": [
    {
     "name": "stdout",
     "output_type": "stream",
     "text": [
      "<class 'range'>\n"
     ]
    }
   ],
   "source": [
    "#range (start,stop,step)\n",
    "range(0,10)\n",
    "print(range)"
   ]
  },
  {
   "cell_type": "code",
   "execution_count": 2,
   "metadata": {},
   "outputs": [
    {
     "name": "stdout",
     "output_type": "stream",
     "text": [
      "0\n",
      "1\n",
      "2\n",
      "3\n",
      "4\n",
      "5\n",
      "6\n",
      "7\n",
      "8\n",
      "9\n"
     ]
    }
   ],
   "source": [
    "for num in range(0,10):\n",
    "    print(num)"
   ]
  },
  {
   "cell_type": "code",
   "execution_count": 13,
   "metadata": {},
   "outputs": [
    {
     "name": "stdout",
     "output_type": "stream",
     "text": [
      "20\n",
      "22\n",
      "24\n",
      "26\n",
      "28\n"
     ]
    }
   ],
   "source": [
    "for num in range(20,30,2): # 2- Step\n",
    "    print(num)"
   ]
  },
  {
   "cell_type": "markdown",
   "metadata": {},
   "source": [
    "# FUNCTIONS\n"
   ]
  },
  {
   "cell_type": "code",
   "execution_count": null,
   "metadata": {},
   "outputs": [],
   "source": [
    "#Function syntex\n",
    "def functionname():\n",
    "    --------------\n",
    "    --------------\n",
    "    --------------\n",
    "    --------------\n",
    "    return"
   ]
  },
  {
   "cell_type": "code",
   "execution_count": 3,
   "metadata": {},
   "outputs": [],
   "source": [
    "lists=[23,89,45,22,5]\n"
   ]
  },
  {
   "cell_type": "code",
   "execution_count": 4,
   "metadata": {},
   "outputs": [],
   "source": [
    "def agecat():\n",
    "    for age in lists:\n",
    "        if(age<18):\n",
    "            print(\"Children\")\n",
    "        elif(age<29):\n",
    "            print(\"Adult\")\n",
    "        elif(age<59):\n",
    "            print(\"citizen\")\n",
    "        else:\n",
    "            print(\"Senior Citizen\")"
   ]
  },
  {
   "cell_type": "code",
   "execution_count": 5,
   "metadata": {},
   "outputs": [
    {
     "name": "stdout",
     "output_type": "stream",
     "text": [
      "Adult\n",
      "Senior Citizen\n",
      "citizen\n",
      "Adult\n",
      "Children\n"
     ]
    }
   ],
   "source": [
    "agecat()"
   ]
  },
  {
   "cell_type": "code",
   "execution_count": 21,
   "metadata": {},
   "outputs": [],
   "source": [
    "#Function with return\n",
    "def agecat():\n",
    "    if(age<18):\n",
    "        print(\"Children\")\n",
    "        cat=\"Children\"\n",
    "    elif(age<29):\n",
    "        print(\"Adult\")\n",
    "        cat=\"Adult\"\n",
    "    elif(age<59):\n",
    "        print(\"citizen\")\n",
    "        cat=\"Citizen\"\n",
    "    else:\n",
    "        print(\"Senior Citizen\")\n",
    "        cat=\"Sr Citizen\"\n",
    "    return cat"
   ]
  },
  {
   "cell_type": "code",
   "execution_count": 22,
   "metadata": {},
   "outputs": [
    {
     "name": "stdout",
     "output_type": "stream",
     "text": [
      "Enter the Age:65\n",
      "Senior Citizen\n"
     ]
    },
    {
     "data": {
      "text/plain": [
       "'Sr Citizen'"
      ]
     },
     "execution_count": 22,
     "metadata": {},
     "output_type": "execute_result"
    }
   ],
   "source": [
    "age=int(input(\"Enter the Age:\"))\n",
    "agecat()"
   ]
  },
  {
   "cell_type": "code",
   "execution_count": 23,
   "metadata": {},
   "outputs": [],
   "source": [
    "#Calling function to variable and with return option. Here, returned variable(cat) value stored in calling function variable(caty)\n",
    "\n",
    "def agecat():\n",
    "    if(age<18):\n",
    "        print(\"Children\")\n",
    "        cat=\"Children\"\n",
    "    elif(age<29):\n",
    "        print(\"Adult\")\n",
    "        cat=\"Adult\"\n",
    "    elif(age<59):\n",
    "        print(\"citizen\")\n",
    "        cat=\"Citizen\"\n",
    "    else:\n",
    "        print(\"Senior Citizen\")\n",
    "        cat=\"Sr Citizen\"\n",
    "    return cat"
   ]
  },
  {
   "cell_type": "code",
   "execution_count": 24,
   "metadata": {},
   "outputs": [
    {
     "name": "stdout",
     "output_type": "stream",
     "text": [
      "Enter the Age:65\n",
      "Senior Citizen\n"
     ]
    }
   ],
   "source": [
    "age=int(input(\"Enter the Age:\"))\n",
    "caty=agecat()          #Calling function using variable"
   ]
  },
  {
   "cell_type": "code",
   "execution_count": 25,
   "metadata": {},
   "outputs": [
    {
     "data": {
      "text/plain": [
       "'Sr Citizen'"
      ]
     },
     "execution_count": 25,
     "metadata": {},
     "output_type": "execute_result"
    }
   ],
   "source": [
    "caty            #Here, returned variable(cat) value stored in calling function variable(caty)"
   ]
  },
  {
   "cell_type": "code",
   "execution_count": 26,
   "metadata": {},
   "outputs": [],
   "source": [
    "#Calling function to variable and without return option. \n",
    "#Here, returned variable(cat) value stored in calling function variable(caty1)\n",
    "\n",
    "def agecatNoR():\n",
    "    if(age<18):\n",
    "        print(\"Children\")\n",
    "        cat=\"Children\"\n",
    "    elif(age<29):\n",
    "        print(\"Adult\")\n",
    "        cat=\"Adult\"\n",
    "    elif(age<59):\n",
    "        print(\"citizen\")\n",
    "        cat=\"Citizen\"\n",
    "    else:\n",
    "        print(\"Senior Citizen\")\n",
    "        cat=\"Sr Citizen\""
   ]
  },
  {
   "cell_type": "code",
   "execution_count": 27,
   "metadata": {},
   "outputs": [
    {
     "name": "stdout",
     "output_type": "stream",
     "text": [
      "Enter the Age:15\n",
      "Children\n"
     ]
    }
   ],
   "source": [
    "age=int(input(\"Enter the Age:\"))\n",
    "caty1=agecatNoR()          #Calling function using variable"
   ]
  },
  {
   "cell_type": "code",
   "execution_count": 30,
   "metadata": {},
   "outputs": [
    {
     "name": "stdout",
     "output_type": "stream",
     "text": [
      "None\n"
     ]
    }
   ],
   "source": [
    "print(caty1)   #Here, No returned variabl value so No/None value in calling function variable(caty1)"
   ]
  },
  {
   "cell_type": "code",
   "execution_count": 43,
   "metadata": {},
   "outputs": [],
   "source": [
    "def agecattest():\n",
    "    if(age<18):\n",
    "        cat=\"Children\"\n",
    "    elif(age<29):\n",
    "        cat=\"Adult\"\n",
    "    elif(age<59):\n",
    "        cat=\"Citizen\"\n",
    "    else:\n",
    "        cat=\"Sr Citizen\"\n",
    "    return cat"
   ]
  },
  {
   "cell_type": "code",
   "execution_count": 44,
   "metadata": {},
   "outputs": [
    {
     "name": "stdout",
     "output_type": "stream",
     "text": [
      "Enter the Age:18\n"
     ]
    },
    {
     "data": {
      "text/plain": [
       "'Adult'"
      ]
     },
     "execution_count": 44,
     "metadata": {},
     "output_type": "execute_result"
    }
   ],
   "source": [
    "age=int(input(\"Enter the Age:\"))\n",
    "agecattest()  "
   ]
  },
  {
   "cell_type": "code",
   "execution_count": 58,
   "metadata": {},
   "outputs": [
    {
     "name": "stdout",
     "output_type": "stream",
     "text": [
      "Enter the Age:35\n",
      "citizen\n"
     ]
    }
   ],
   "source": [
    "#Advantage of function: Code reusability,Coding pages reduced, \n",
    "#same logic can be called for different inputs(by calling function using diff varable).\n",
    "\n",
    "# Example 1:\n",
    "age=int(input(\"Enter the Age:\"))\n",
    "exam1=agecat()  \n"
   ]
  },
  {
   "cell_type": "code",
   "execution_count": 59,
   "metadata": {},
   "outputs": [
    {
     "name": "stdout",
     "output_type": "stream",
     "text": [
      "Enter the Age:25\n",
      "Adult\n"
     ]
    }
   ],
   "source": [
    "# Example 2:\n",
    "age=int(input(\"Enter the Age:\"))\n",
    "exam2=agecat()  "
   ]
  },
  {
   "cell_type": "markdown",
   "metadata": {},
   "source": [
    "# FUNCTIONS IN DIFFRENT WAYS."
   ]
  },
  {
   "cell_type": "code",
   "execution_count": 92,
   "metadata": {},
   "outputs": [],
   "source": [
    "def oddeven():  #This is function with no arguments'oddeven()'/Non parameterized\n",
    "    num=int(input(\"Enter the number to check Odd/even:\"))\n",
    "    if((num%2)==1):\n",
    "        print(\"Odd Number\")\n",
    "        message=\"Odd No\"\n",
    "    else:\n",
    "        print(\"Even Number\")\n",
    "        message=\"Even No\"\n",
    "    return message"
   ]
  },
  {
   "cell_type": "code",
   "execution_count": 93,
   "metadata": {},
   "outputs": [
    {
     "name": "stdout",
     "output_type": "stream",
     "text": [
      "Enter the number to check Odd/even:10\n",
      "Even Number\n"
     ]
    },
    {
     "data": {
      "text/plain": [
       "'Even No'"
      ]
     },
     "execution_count": 93,
     "metadata": {},
     "output_type": "execute_result"
    }
   ],
   "source": [
    "oddeven()"
   ]
  },
  {
   "cell_type": "code",
   "execution_count": 94,
   "metadata": {},
   "outputs": [
    {
     "name": "stdout",
     "output_type": "stream",
     "text": [
      "Enter the number to check Odd/even:50\n",
      "Even Number\n"
     ]
    }
   ],
   "source": [
    "#Using the return variable output to input of other code\n",
    "test=oddeven()"
   ]
  },
  {
   "cell_type": "code",
   "execution_count": 78,
   "metadata": {},
   "outputs": [
    {
     "name": "stdout",
     "output_type": "stream",
     "text": [
      "Yes,Given number is Odd Number\n"
     ]
    }
   ],
   "source": [
    "if(test==\"Odd No\"):       #Using the return variable output to input of other code\n",
    "    print(\"Yes,Given number is Odd Number\")\n",
    "else:\n",
    "    print(\"Yes, Given number is Even Number\")"
   ]
  },
  {
   "cell_type": "code",
   "execution_count": 79,
   "metadata": {},
   "outputs": [],
   "source": [
    "#Body Mass Index using functions:\n",
    "def BMI():\n",
    "    Index=int(input(\"Enter Index Value:\"))\n",
    "    if(Index<18):\n",
    "        print(\"Underweight\")\n",
    "        message=\"Yes,Underweight\"\n",
    "    elif(Index<24):\n",
    "        print(\"Normal\")\n",
    "        message=\"Yes,Normal\"\n",
    "    elif(Index<29):\n",
    "        print(\"Overweight\")\n",
    "        message=\"Yes,Overweight\"\n",
    "    elif(Index<34):\n",
    "        print(\"Obese\")\n",
    "        message=\"Yes,Obese\"\n",
    "    else:\n",
    "        print(\"Extremely Obese\")\n",
    "        message=\"Yes,Extremely Obese\"\n",
    "    return message"
   ]
  },
  {
   "cell_type": "code",
   "execution_count": 80,
   "metadata": {},
   "outputs": [
    {
     "name": "stdout",
     "output_type": "stream",
     "text": [
      "Enter Index Value:33\n",
      "Obese\n"
     ]
    }
   ],
   "source": [
    "bmi=BMI()"
   ]
  },
  {
   "cell_type": "code",
   "execution_count": 81,
   "metadata": {},
   "outputs": [
    {
     "data": {
      "text/plain": [
       "'Yes,Obese'"
      ]
     },
     "execution_count": 81,
     "metadata": {},
     "output_type": "execute_result"
    }
   ],
   "source": [
    "bmi"
   ]
  },
  {
   "cell_type": "markdown",
   "metadata": {},
   "source": [
    "# Function with Arguments"
   ]
  },
  {
   "cell_type": "code",
   "execution_count": 82,
   "metadata": {},
   "outputs": [],
   "source": [
    "def sum(num1,num2): #Two arguments num1,num2.\n",
    "    add=num1+num2\n",
    "    return add"
   ]
  },
  {
   "cell_type": "code",
   "execution_count": 83,
   "metadata": {},
   "outputs": [
    {
     "data": {
      "text/plain": [
       "13"
      ]
     },
     "execution_count": 83,
     "metadata": {},
     "output_type": "execute_result"
    }
   ],
   "source": [
    "sum(4,9)"
   ]
  },
  {
   "cell_type": "code",
   "execution_count": 88,
   "metadata": {},
   "outputs": [],
   "source": [
    "def sum1(num1,num2,num3): #Three arguments num1,num2.\n",
    "    add=num1+num2+num3\n",
    "    return add"
   ]
  },
  {
   "cell_type": "code",
   "execution_count": 89,
   "metadata": {},
   "outputs": [
    {
     "data": {
      "text/plain": [
       "18"
      ]
     },
     "execution_count": 89,
     "metadata": {},
     "output_type": "execute_result"
    }
   ],
   "source": [
    "sum1(5,6,7)"
   ]
  },
  {
   "cell_type": "code",
   "execution_count": 90,
   "metadata": {},
   "outputs": [],
   "source": [
    "def sub(num1,num2):\n",
    "    minus=num1-num2\n",
    "    return minus"
   ]
  },
  {
   "cell_type": "code",
   "execution_count": 91,
   "metadata": {},
   "outputs": [
    {
     "data": {
      "text/plain": [
       "1"
      ]
     },
     "execution_count": 91,
     "metadata": {},
     "output_type": "execute_result"
    }
   ],
   "source": [
    "sub(8,7)"
   ]
  },
  {
   "cell_type": "code",
   "execution_count": 1,
   "metadata": {},
   "outputs": [],
   "source": [
    "def mul(a,b):\n",
    "    return (a*b)"
   ]
  },
  {
   "cell_type": "code",
   "execution_count": 2,
   "metadata": {},
   "outputs": [
    {
     "data": {
      "text/plain": [
       "20"
      ]
     },
     "execution_count": 2,
     "metadata": {},
     "output_type": "execute_result"
    }
   ],
   "source": [
    "mul(4,5)"
   ]
  },
  {
   "cell_type": "code",
   "execution_count": 3,
   "metadata": {},
   "outputs": [],
   "source": [
    "def mul1(a,b):\n",
    "    print(a*b)"
   ]
  },
  {
   "cell_type": "code",
   "execution_count": 5,
   "metadata": {},
   "outputs": [
    {
     "name": "stdout",
     "output_type": "stream",
     "text": [
      "Enter A value:5\n",
      "Enter B value:10\n",
      "50\n"
     ]
    }
   ],
   "source": [
    "a=int(input(\"Enter A value:\"))\n",
    "b=int(input(\"Enter B value:\"))\n",
    "mul1(a,b)"
   ]
  },
  {
   "cell_type": "code",
   "execution_count": 6,
   "metadata": {},
   "outputs": [],
   "source": [
    "def mul2(c,d=10): #If d value not provided then python consider default value as 10\n",
    "    print(c*d)"
   ]
  },
  {
   "cell_type": "code",
   "execution_count": 7,
   "metadata": {},
   "outputs": [
    {
     "name": "stdout",
     "output_type": "stream",
     "text": [
      "50\n"
     ]
    }
   ],
   "source": [
    "mul2(5)"
   ]
  },
  {
   "cell_type": "code",
   "execution_count": 8,
   "metadata": {},
   "outputs": [
    {
     "name": "stdout",
     "output_type": "stream",
     "text": [
      "60\n"
     ]
    }
   ],
   "source": [
    "mul2(5,12)"
   ]
  },
  {
   "cell_type": "code",
   "execution_count": 9,
   "metadata": {},
   "outputs": [
    {
     "name": "stdout",
     "output_type": "stream",
     "text": [
      "80\n",
      "None\n"
     ]
    }
   ],
   "source": [
    "print(mul2(4,20)) #Output 'None' due to No return in function definition."
   ]
  },
  {
   "cell_type": "code",
   "execution_count": 10,
   "metadata": {},
   "outputs": [],
   "source": [
    "def div(a,b):\n",
    "    return a/b   #next to return ,value to provide within () or dirctly Ex: a/b or (a/b)."
   ]
  },
  {
   "cell_type": "code",
   "execution_count": 11,
   "metadata": {},
   "outputs": [
    {
     "data": {
      "text/plain": [
       "10.0"
      ]
     },
     "execution_count": 11,
     "metadata": {},
     "output_type": "execute_result"
    }
   ],
   "source": [
    "div(20,2)"
   ]
  },
  {
   "cell_type": "markdown",
   "metadata": {},
   "source": [
    "# CLASS- Group of functions:"
   ]
  },
  {
   "cell_type": "code",
   "execution_count": 4,
   "metadata": {},
   "outputs": [],
   "source": [
    "class multiplefunctions(): #Class\n",
    "    def BMI():  #Function 1\n",
    "        Index=int(input(\"Enter Index Value:\"))\n",
    "        if(Index<18):\n",
    "            print(\"Underweight\")\n",
    "            message=\"Yes,Underweight\"\n",
    "        elif(Index<24):\n",
    "            print(\"Normal\")\n",
    "            message=\"Yes,Normal\"\n",
    "        elif(Index<29):\n",
    "            print(\"Overweight\")\n",
    "            message=\"Yes,Overweight\"\n",
    "        elif(Index<34):\n",
    "            print(\"Obese\")\n",
    "            message=\"Yes,Obese\"\n",
    "        else:\n",
    "            print(\"Extremely Obese\")\n",
    "            message=\"Yes,Extremely Obese\"\n",
    "        return message\n",
    "    \n",
    "    def oddeven():  #Function 2\n",
    "        num=int(input(\"Enter the number to check Odd/even:\"))\n",
    "        if((num%2)==1):\n",
    "            print(\"Odd Number\")\n",
    "            message=\"Odd No\"\n",
    "        else:\n",
    "            print(\"Even Number\")\n",
    "            message=\"Even No\"\n",
    "        return message"
   ]
  },
  {
   "cell_type": "code",
   "execution_count": 5,
   "metadata": {},
   "outputs": [
    {
     "name": "stdout",
     "output_type": "stream",
     "text": [
      "Enter Index Value:35\n",
      "Extremely Obese\n"
     ]
    },
    {
     "data": {
      "text/plain": [
       "'Yes,Extremely Obese'"
      ]
     },
     "execution_count": 5,
     "metadata": {},
     "output_type": "execute_result"
    }
   ],
   "source": [
    "multiplefunctions.BMI()"
   ]
  },
  {
   "cell_type": "code",
   "execution_count": 6,
   "metadata": {},
   "outputs": [
    {
     "name": "stdout",
     "output_type": "stream",
     "text": [
      "Enter the number to check Odd/even:9\n",
      "Odd Number\n"
     ]
    },
    {
     "data": {
      "text/plain": [
       "'Odd No'"
      ]
     },
     "execution_count": 6,
     "metadata": {},
     "output_type": "execute_result"
    }
   ],
   "source": [
    "multiplefunctions.oddeven()"
   ]
  },
  {
   "cell_type": "code",
   "execution_count": null,
   "metadata": {},
   "outputs": [],
   "source": []
  }
 ],
 "metadata": {
  "kernelspec": {
   "display_name": "Python 3",
   "language": "python",
   "name": "python3"
  },
  "language_info": {
   "codemirror_mode": {
    "name": "ipython",
    "version": 3
   },
   "file_extension": ".py",
   "mimetype": "text/x-python",
   "name": "python",
   "nbconvert_exporter": "python",
   "pygments_lexer": "ipython3",
   "version": "3.7.4"
  }
 },
 "nbformat": 4,
 "nbformat_minor": 2
}
