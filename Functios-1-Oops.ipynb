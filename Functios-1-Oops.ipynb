{
 "cells": [
  {
   "cell_type": "markdown",
   "metadata": {},
   "source": [
    "# FUNCTIONS\n"
   ]
  },
  {
   "cell_type": "code",
   "execution_count": null,
   "metadata": {},
   "outputs": [],
   "source": [
    "#Function syntex\n",
    "def functionname():\n",
    "    --------------\n",
    "    --------------\n",
    "    --------------\n",
    "    --------------\n",
    "    return"
   ]
  },
  {
   "cell_type": "code",
   "execution_count": 3,
   "metadata": {},
   "outputs": [],
   "source": [
    "lists=[23,89,45,22,5]\n"
   ]
  },
  {
   "cell_type": "code",
   "execution_count": 4,
   "metadata": {},
   "outputs": [],
   "source": [
    "def agecat():\n",
    "    for age in lists:\n",
    "        if(age<18):\n",
    "            print(\"Children\")\n",
    "        elif(age<29):\n",
    "            print(\"Adult\")\n",
    "        elif(age<59):\n",
    "            print(\"citizen\")\n",
    "        else:\n",
    "            print(\"Senior Citizen\")"
   ]
  },
  {
   "cell_type": "code",
   "execution_count": 5,
   "metadata": {},
   "outputs": [
    {
     "name": "stdout",
     "output_type": "stream",
     "text": [
      "Adult\n",
      "Senior Citizen\n",
      "citizen\n",
      "Adult\n",
      "Children\n"
     ]
    }
   ],
   "source": [
    "agecat()"
   ]
  },
  {
   "cell_type": "code",
   "execution_count": 21,
   "metadata": {},
   "outputs": [],
   "source": [
    "#Function with return\n",
    "def agecat():\n",
    "    if(age<18):\n",
    "        print(\"Children\")\n",
    "        cat=\"Children\"\n",
    "    elif(age<29):\n",
    "        print(\"Adult\")\n",
    "        cat=\"Adult\"\n",
    "    elif(age<59):\n",
    "        print(\"citizen\")\n",
    "        cat=\"Citizen\"\n",
    "    else:\n",
    "        print(\"Senior Citizen\")\n",
    "        cat=\"Sr Citizen\"\n",
    "    return cat"
   ]
  },
  {
   "cell_type": "code",
   "execution_count": 22,
   "metadata": {},
   "outputs": [
    {
     "name": "stdout",
     "output_type": "stream",
     "text": [
      "Enter the Age:65\n",
      "Senior Citizen\n"
     ]
    },
    {
     "data": {
      "text/plain": [
       "'Sr Citizen'"
      ]
     },
     "execution_count": 22,
     "metadata": {},
     "output_type": "execute_result"
    }
   ],
   "source": [
    "age=int(input(\"Enter the Age:\"))\n",
    "agecat()"
   ]
  },
  {
   "cell_type": "code",
   "execution_count": 23,
   "metadata": {},
   "outputs": [],
   "source": [
    "#Calling function to variable and with return option. Here, returned variable(cat) value stored in calling function variable(caty)\n",
    "\n",
    "def agecat():\n",
    "    if(age<18):\n",
    "        print(\"Children\")\n",
    "        cat=\"Children\"\n",
    "    elif(age<29):\n",
    "        print(\"Adult\")\n",
    "        cat=\"Adult\"\n",
    "    elif(age<59):\n",
    "        print(\"citizen\")\n",
    "        cat=\"Citizen\"\n",
    "    else:\n",
    "        print(\"Senior Citizen\")\n",
    "        cat=\"Sr Citizen\"\n",
    "    return cat"
   ]
  },
  {
   "cell_type": "code",
   "execution_count": 24,
   "metadata": {},
   "outputs": [
    {
     "name": "stdout",
     "output_type": "stream",
     "text": [
      "Enter the Age:65\n",
      "Senior Citizen\n"
     ]
    }
   ],
   "source": [
    "age=int(input(\"Enter the Age:\"))\n",
    "caty=agecat()          #Calling function using variable"
   ]
  },
  {
   "cell_type": "code",
   "execution_count": 25,
   "metadata": {},
   "outputs": [
    {
     "data": {
      "text/plain": [
       "'Sr Citizen'"
      ]
     },
     "execution_count": 25,
     "metadata": {},
     "output_type": "execute_result"
    }
   ],
   "source": [
    "caty            #Here, returned variable(cat) value stored in calling function variable(caty)"
   ]
  },
  {
   "cell_type": "code",
   "execution_count": 26,
   "metadata": {},
   "outputs": [],
   "source": [
    "#Calling function to variable and without return option. \n",
    "#Here, returned variable(cat) value stored in calling function variable(caty1)\n",
    "\n",
    "def agecatNoR():\n",
    "    if(age<18):\n",
    "        print(\"Children\")\n",
    "        cat=\"Children\"\n",
    "    elif(age<29):\n",
    "        print(\"Adult\")\n",
    "        cat=\"Adult\"\n",
    "    elif(age<59):\n",
    "        print(\"citizen\")\n",
    "        cat=\"Citizen\"\n",
    "    else:\n",
    "        print(\"Senior Citizen\")\n",
    "        cat=\"Sr Citizen\""
   ]
  },
  {
   "cell_type": "code",
   "execution_count": 27,
   "metadata": {},
   "outputs": [
    {
     "name": "stdout",
     "output_type": "stream",
     "text": [
      "Enter the Age:15\n",
      "Children\n"
     ]
    }
   ],
   "source": [
    "age=int(input(\"Enter the Age:\"))\n",
    "caty1=agecatNoR()          #Calling function using variable"
   ]
  },
  {
   "cell_type": "code",
   "execution_count": 30,
   "metadata": {},
   "outputs": [
    {
     "name": "stdout",
     "output_type": "stream",
     "text": [
      "None\n"
     ]
    }
   ],
   "source": [
    "print(caty1)   #Here, No returned variabl value so No/None value in calling function variable(caty1)"
   ]
  },
  {
   "cell_type": "code",
   "execution_count": 43,
   "metadata": {},
   "outputs": [],
   "source": [
    "def agecattest():\n",
    "    if(age<18):\n",
    "        cat=\"Children\"\n",
    "    elif(age<29):\n",
    "        cat=\"Adult\"\n",
    "    elif(age<59):\n",
    "        cat=\"Citizen\"\n",
    "    else:\n",
    "        cat=\"Sr Citizen\"\n",
    "    return cat"
   ]
  },
  {
   "cell_type": "code",
   "execution_count": 44,
   "metadata": {},
   "outputs": [
    {
     "name": "stdout",
     "output_type": "stream",
     "text": [
      "Enter the Age:18\n"
     ]
    },
    {
     "data": {
      "text/plain": [
       "'Adult'"
      ]
     },
     "execution_count": 44,
     "metadata": {},
     "output_type": "execute_result"
    }
   ],
   "source": [
    "age=int(input(\"Enter the Age:\"))\n",
    "agecattest()  "
   ]
  },
  {
   "cell_type": "code",
   "execution_count": null,
   "metadata": {},
   "outputs": [],
   "source": []
  },
  {
   "cell_type": "code",
   "execution_count": null,
   "metadata": {},
   "outputs": [],
   "source": []
  },
  {
   "cell_type": "code",
   "execution_count": null,
   "metadata": {},
   "outputs": [],
   "source": []
  }
 ],
 "metadata": {
  "kernelspec": {
   "display_name": "Python 3",
   "language": "python",
   "name": "python3"
  },
  "language_info": {
   "codemirror_mode": {
    "name": "ipython",
    "version": 3
   },
   "file_extension": ".py",
   "mimetype": "text/x-python",
   "name": "python",
   "nbconvert_exporter": "python",
   "pygments_lexer": "ipython3",
   "version": "3.7.4"
  }
 },
 "nbformat": 4,
 "nbformat_minor": 2
}
