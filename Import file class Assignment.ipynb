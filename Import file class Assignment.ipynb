{
 "cells": [
  {
   "cell_type": "code",
   "execution_count": 1,
   "metadata": {},
   "outputs": [],
   "source": [
    "from consolidatedfunctions import consolidatedfunction"
   ]
  },
  {
   "cell_type": "code",
   "execution_count": 2,
   "metadata": {},
   "outputs": [
    {
     "name": "stdout",
     "output_type": "stream",
     "text": [
      "Sub-fields in AI are:\n",
      "Machine Learning\n",
      "Neural Networks\n",
      "Vision\n",
      "Robotics\n",
      "Speech Processing\n",
      "Natural Language Processing\n"
     ]
    }
   ],
   "source": [
    "consolidatedfunction.fields()"
   ]
  },
  {
   "cell_type": "code",
   "execution_count": 3,
   "metadata": {},
   "outputs": [
    {
     "name": "stdout",
     "output_type": "stream",
     "text": [
      "\n",
      "        Sub-fields in AI are:\n",
      "        Machine Learning\n",
      "        Neural Networks\n",
      "        Vision\n",
      "        Robotics\n",
      "        Speech Processing\n",
      "        Natural Language Processing\n"
     ]
    }
   ],
   "source": [
    "consolidatedfunction.Subfields()"
   ]
  },
  {
   "cell_type": "code",
   "execution_count": 4,
   "metadata": {},
   "outputs": [
    {
     "name": "stdout",
     "output_type": "stream",
     "text": [
      "Enter the number to check Odd/even:9\n",
      "9 is Odd Number\n"
     ]
    }
   ],
   "source": [
    "consolidatedfunction.oddeven()"
   ]
  },
  {
   "cell_type": "code",
   "execution_count": 5,
   "metadata": {},
   "outputs": [
    {
     "name": "stdout",
     "output_type": "stream",
     "text": [
      "Your gender:Female\n",
      "Your Age:25\n",
      "Eligible\n"
     ]
    }
   ],
   "source": [
    "consolidatedfunction.Eligible()"
   ]
  },
  {
   "cell_type": "code",
   "execution_count": 6,
   "metadata": {},
   "outputs": [
    {
     "name": "stdout",
     "output_type": "stream",
     "text": [
      "Subject1=50\n",
      "Subject2=80\n",
      "Subject3=43\n",
      "Subject4=78\n",
      "Subject5=58\n",
      "Total: 309\n",
      "Percentage: 61.8\n"
     ]
    }
   ],
   "source": [
    "consolidatedfunction.percentage()"
   ]
  },
  {
   "cell_type": "code",
   "execution_count": 7,
   "metadata": {},
   "outputs": [
    {
     "name": "stdout",
     "output_type": "stream",
     "text": [
      "Height:10\n",
      "Breadth:50\n",
      "Area Formula:(Height*Breadth)/2 \n",
      "Area of Triangle: 250.0\n",
      "Height1:48\n",
      "Height2:75\n",
      "Breadth1:63\n",
      "Perimeter formula:Height1+Height2+Breadth1\n",
      "Perimeter of triangle: 186\n"
     ]
    }
   ],
   "source": [
    "consolidatedfunction.triangle()"
   ]
  },
  {
   "cell_type": "code",
   "execution_count": null,
   "metadata": {},
   "outputs": [],
   "source": []
  }
 ],
 "metadata": {
  "kernelspec": {
   "display_name": "Python 3",
   "language": "python",
   "name": "python3"
  },
  "language_info": {
   "codemirror_mode": {
    "name": "ipython",
    "version": 3
   },
   "file_extension": ".py",
   "mimetype": "text/x-python",
   "name": "python",
   "nbconvert_exporter": "python",
   "pygments_lexer": "ipython3",
   "version": "3.7.4"
  }
 },
 "nbformat": 4,
 "nbformat_minor": 2
}
