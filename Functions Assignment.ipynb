{
 "cells": [
  {
   "cell_type": "markdown",
   "metadata": {},
   "source": [
    "\n",
    "# Function Assignment"
   ]
  },
  {
   "cell_type": "code",
   "execution_count": 56,
   "metadata": {},
   "outputs": [],
   "source": [
    "def Subfields():\n",
    "    print('''\n",
    "    Sub-fields in AI are:\n",
    "    Machine Learning\n",
    "    Neural Networks\n",
    "    Vision\n",
    "    Robotics\n",
    "    Speech Processing\n",
    "    Natural Language Processing''')"
   ]
  },
  {
   "cell_type": "code",
   "execution_count": 57,
   "metadata": {},
   "outputs": [
    {
     "name": "stdout",
     "output_type": "stream",
     "text": [
      "\n",
      "    Sub-fields in AI are:\n",
      "    Machine Learning\n",
      "    Neural Networks\n",
      "    Vision\n",
      "    Robotics\n",
      "    Speech Processing\n",
      "    Natural Language Processing\n"
     ]
    }
   ],
   "source": [
    "Subfields()"
   ]
  },
  {
   "cell_type": "code",
   "execution_count": 37,
   "metadata": {},
   "outputs": [],
   "source": [
    "def oddeven():\n",
    "    num=int(input(\"Enter the number to check Odd/even:\"))\n",
    "    if((num%2)==1):\n",
    "        print(num,\"is Odd Number\")\n",
    "        message=\"ODD NO\"\n",
    "    else:\n",
    "        print(num,\"is Even Number\")\n",
    "        message=\"EVEN NO\"\n",
    "    return message"
   ]
  },
  {
   "cell_type": "code",
   "execution_count": 38,
   "metadata": {},
   "outputs": [
    {
     "name": "stdout",
     "output_type": "stream",
     "text": [
      "Enter the number to check Odd/even:6\n",
      "6 is Even Number\n"
     ]
    },
    {
     "data": {
      "text/plain": [
       "'EVEN NO'"
      ]
     },
     "execution_count": 38,
     "metadata": {},
     "output_type": "execute_result"
    }
   ],
   "source": [
    "oddeven()"
   ]
  },
  {
   "cell_type": "code",
   "execution_count": 39,
   "metadata": {},
   "outputs": [],
   "source": [
    "def Eligible():\n",
    "    if(gender==\"Male\"):\n",
    "        if(age>=21):\n",
    "            print(\"Eligible\")\n",
    "            status=\"ELIGIBLE\"\n",
    "        else:\n",
    "            print(\"Not Eligible\")\n",
    "            status=\"NOT ELIGIBLE\"\n",
    "        return status"
   ]
  },
  {
   "cell_type": "code",
   "execution_count": 41,
   "metadata": {},
   "outputs": [
    {
     "name": "stdout",
     "output_type": "stream",
     "text": [
      "Your Gender:Male\n",
      "Your Age:16\n",
      "Not Eligible\n"
     ]
    },
    {
     "data": {
      "text/plain": [
       "'NOT ELIGIBLE'"
      ]
     },
     "execution_count": 41,
     "metadata": {},
     "output_type": "execute_result"
    }
   ],
   "source": [
    "gender=input(\"Your Gender:\")\n",
    "age=int(input(\"Your Age:\"))\n",
    "Eligible()"
   ]
  },
  {
   "cell_type": "code",
   "execution_count": 46,
   "metadata": {},
   "outputs": [],
   "source": [
    "def percentage():\n",
    "    Total=S1+S2+S3+S4+S5\n",
    "    print(\"Total:\",Total)\n",
    "    percent=(Total/500)*100\n",
    "    print(\"Percentage:\",percent)\n",
    "    return percent"
   ]
  },
  {
   "cell_type": "code",
   "execution_count": 47,
   "metadata": {},
   "outputs": [
    {
     "name": "stdout",
     "output_type": "stream",
     "text": [
      "Subject1=23\n",
      "Subject2=45\n",
      "Subject3=34\n",
      "Subject4=23\n",
      "Subject5=23\n",
      "Total: 148\n",
      "Percentage: 29.599999999999998\n"
     ]
    },
    {
     "data": {
      "text/plain": [
       "29.599999999999998"
      ]
     },
     "execution_count": 47,
     "metadata": {},
     "output_type": "execute_result"
    }
   ],
   "source": [
    "S1=int(input(\"Subject1=\"))\n",
    "S2=int(input(\"Subject2=\"))\n",
    "S3=int(input(\"Subject3=\"))\n",
    "S4=int(input(\"Subject4=\"))\n",
    "S5=int(input(\"Subject5=\"))\n",
    "percentage()"
   ]
  },
  {
   "cell_type": "code",
   "execution_count": 1,
   "metadata": {},
   "outputs": [],
   "source": [
    "def triangle():\n",
    "    Area=(Height*Breadth)/2\n",
    "    print(\"Area Formula:(Height*Breadth)/2 \")\n",
    "    print(\"Area of Triangle:\",Area)\n",
    "    Perimeter=(Height1+Height2+Breadth1)\n",
    "    print(\"Perimeter formula:Height1+Height2+Breadth1\")\n",
    "    print(\"Perimeter of triangle:\",Perimeter)"
   ]
  },
  {
   "cell_type": "code",
   "execution_count": 3,
   "metadata": {},
   "outputs": [
    {
     "name": "stdout",
     "output_type": "stream",
     "text": [
      "Height:10\n",
      "Breadth:20\n",
      "Height1:50\n",
      "Height2:50\n",
      "Breadth1:50\n",
      "Area Formula:(Height*Breadth)/2 \n",
      "Area of Triangle: 100.0\n",
      "Perimeter formula:Height1+Height2+Breadth1\n",
      "Perimeter of triangle: 150\n"
     ]
    }
   ],
   "source": [
    "Height=int(input(\"Height:\"))\n",
    "Breadth=int(input(\"Breadth:\"))\n",
    "Height1=int(input(\"Height1:\"))\n",
    "Height2=int(input(\"Height2:\"))\n",
    "Breadth1=int(input(\"Breadth1:\"))\n",
    "triangle()"
   ]
  },
  {
   "cell_type": "code",
   "execution_count": null,
   "metadata": {},
   "outputs": [],
   "source": []
  }
 ],
 "metadata": {
  "kernelspec": {
   "display_name": "Python 3",
   "language": "python",
   "name": "python3"
  },
  "language_info": {
   "codemirror_mode": {
    "name": "ipython",
    "version": 3
   },
   "file_extension": ".py",
   "mimetype": "text/x-python",
   "name": "python",
   "nbconvert_exporter": "python",
   "pygments_lexer": "ipython3",
   "version": "3.7.4"
  }
 },
 "nbformat": 4,
 "nbformat_minor": 2
}
