{
 "cells": [
  {
   "cell_type": "code",
   "execution_count": 1,
   "metadata": {},
   "outputs": [],
   "source": [
    "Num1=10\n",
    "Num2=45\n",
    "Num3=Num1+Num2"
   ]
  },
  {
   "cell_type": "code",
   "execution_count": 6,
   "metadata": {},
   "outputs": [
    {
     "name": "stdout",
     "output_type": "stream",
     "text": [
      "Num3\n"
     ]
    }
   ],
   "source": [
    "Num1=10\n",
    "Num2=45\n",
    "Num3=Num1+Num2\n",
    "print(\"Num3\")"
   ]
  },
  {
   "cell_type": "code",
   "execution_count": 5,
   "metadata": {},
   "outputs": [
    {
     "name": "stdout",
     "output_type": "stream",
     "text": [
      "Num3\n",
      "55\n"
     ]
    }
   ],
   "source": [
    "Num1=10\n",
    "Num2=45\n",
    "Num3=Num1+Num2\n",
    "print(\"Num3\")\n",
    "print(Num3)"
   ]
  },
  {
   "cell_type": "code",
   "execution_count": 7,
   "metadata": {},
   "outputs": [
    {
     "ename": "SyntaxError",
     "evalue": "invalid syntax (<ipython-input-7-f3e5f2ca99b9>, line 1)",
     "output_type": "error",
     "traceback": [
      "\u001b[1;36m  File \u001b[1;32m\"<ipython-input-7-f3e5f2ca99b9>\"\u001b[1;36m, line \u001b[1;32m1\u001b[0m\n\u001b[1;33m    First Name=\"Manibalaji\"\u001b[0m\n\u001b[1;37m             ^\u001b[0m\n\u001b[1;31mSyntaxError\u001b[0m\u001b[1;31m:\u001b[0m invalid syntax\n"
     ]
    }
   ],
   "source": [
    "First Name=\"Manibalaji\""
   ]
  },
  {
   "cell_type": "code",
   "execution_count": 8,
   "metadata": {},
   "outputs": [],
   "source": [
    "First_Name=\"Mani\""
   ]
  },
  {
   "cell_type": "code",
   "execution_count": 9,
   "metadata": {},
   "outputs": [
    {
     "ename": "SyntaxError",
     "evalue": "invalid syntax (<ipython-input-9-4e02a0ec85b7>, line 1)",
     "output_type": "error",
     "traceback": [
      "\u001b[1;36m  File \u001b[1;32m\"<ipython-input-9-4e02a0ec85b7>\"\u001b[1;36m, line \u001b[1;32m1\u001b[0m\n\u001b[1;33m    4name=10\u001b[0m\n\u001b[1;37m        ^\u001b[0m\n\u001b[1;31mSyntaxError\u001b[0m\u001b[1;31m:\u001b[0m invalid syntax\n"
     ]
    }
   ],
   "source": [
    "4name=10"
   ]
  },
  {
   "cell_type": "code",
   "execution_count": 10,
   "metadata": {},
   "outputs": [],
   "source": [
    "name4=10"
   ]
  },
  {
   "cell_type": "code",
   "execution_count": 11,
   "metadata": {},
   "outputs": [
    {
     "name": "stdout",
     "output_type": "stream",
     "text": [
      "Addition of two numbers\n",
      "The number1: 10\n"
     ]
    }
   ],
   "source": [
    "print(\"Addition of two numbers\")\n",
    "num1=10\n",
    "num2=56\n",
    "num3=num1+num2\n",
    "print(\"The number1:\",num1)\n"
   ]
  },
  {
   "cell_type": "code",
   "execution_count": 12,
   "metadata": {},
   "outputs": [
    {
     "name": "stdout",
     "output_type": "stream",
     "text": [
      "Addition of two numbers\n",
      "The number1: 10\n",
      "The number2: 56\n",
      "Sum of two number is 66\n"
     ]
    }
   ],
   "source": [
    "print(\"Addition of two numbers\")\n",
    "num1=10\n",
    "num2=56\n",
    "num3=num1+num2\n",
    "print(\"The number1:\",num1)\n",
    "print(\"The number2:\",num2)\n",
    "print(\"Sum of two number is\",num3)"
   ]
  },
  {
   "cell_type": "code",
   "execution_count": 13,
   "metadata": {},
   "outputs": [
    {
     "name": "stdout",
     "output_type": "stream",
     "text": [
      "Addition of two numbers\n",
      "The number1: 10\n",
      "The number2: 56\n",
      "Sum of two number is 66\n"
     ]
    }
   ],
   "source": [
    "print(\"Addition of two numbers\")\n",
    "num1=10\n",
    "num2=56\n",
    "print(\"The number1:\",num1)\n",
    "print(\"The number2:\",num2)\n",
    "print(\"Sum of two number is\",num1+num2)"
   ]
  },
  {
   "cell_type": "code",
   "execution_count": 14,
   "metadata": {},
   "outputs": [
    {
     "name": "stdout",
     "output_type": "stream",
     "text": [
      "Enter the number 1:50\n"
     ]
    }
   ],
   "source": [
    "# Getting Inputs from user instead assinging values to variable:\n",
    "num1=input(\"Enter the number 1:\")"
   ]
  },
  {
   "cell_type": "code",
   "execution_count": 15,
   "metadata": {},
   "outputs": [
    {
     "name": "stdout",
     "output_type": "stream",
     "text": [
      "Enter the number 2: 74\n"
     ]
    }
   ],
   "source": [
    "num2=input(\"Enter the number 2:\")"
   ]
  },
  {
   "cell_type": "code",
   "execution_count": 16,
   "metadata": {},
   "outputs": [
    {
     "name": "stdout",
     "output_type": "stream",
     "text": [
      "50 74\n"
     ]
    }
   ],
   "source": [
    "add=num1+num2\n",
    "print(add)\n",
    "\n",
    "#Here system will consider the entered inputs as \"String\" ."
   ]
  },
  {
   "cell_type": "code",
   "execution_count": 18,
   "metadata": {},
   "outputs": [
    {
     "name": "stdout",
     "output_type": "stream",
     "text": [
      "Enter the number 1:29\n",
      "Enter the number 2:87\n",
      "Addition of two integer is : 116\n"
     ]
    }
   ],
   "source": [
    "# Getting Inputs from user instead assinging values to variable:\n",
    "num1=int(input(\"Enter the number 1:\"))  #adding 'int' before input statement to define a input as integer.\n",
    "num2=int(input(\"Enter the number 2:\"))\n",
    "add=num1+num2\n",
    "print(\"Addition of two integer is :\", add)\n"
   ]
  },
  {
   "cell_type": "code",
   "execution_count": 19,
   "metadata": {},
   "outputs": [
    {
     "ename": "NameError",
     "evalue": "name 'divison' is not defined",
     "output_type": "error",
     "traceback": [
      "\u001b[1;31m---------------------------------------------------------------------------\u001b[0m",
      "\u001b[1;31mNameError\u001b[0m                                 Traceback (most recent call last)",
      "\u001b[1;32m<ipython-input-19-2407bd2fa44f>\u001b[0m in \u001b[0;36m<module>\u001b[1;34m\u001b[0m\n\u001b[1;32m----> 1\u001b[1;33m \u001b[0mprint\u001b[0m\u001b[1;33m(\u001b[0m\u001b[0mdivison\u001b[0m\u001b[1;33m)\u001b[0m\u001b[1;33m\u001b[0m\u001b[1;33m\u001b[0m\u001b[0m\n\u001b[0m",
      "\u001b[1;31mNameError\u001b[0m: name 'divison' is not defined"
     ]
    }
   ],
   "source": [
    "print(divison)"
   ]
  },
  {
   "cell_type": "code",
   "execution_count": null,
   "metadata": {},
   "outputs": [],
   "source": []
  }
 ],
 "metadata": {
  "kernelspec": {
   "display_name": "Python 3",
   "language": "python",
   "name": "python3"
  },
  "language_info": {
   "codemirror_mode": {
    "name": "ipython",
    "version": 3
   },
   "file_extension": ".py",
   "mimetype": "text/x-python",
   "name": "python",
   "nbconvert_exporter": "python",
   "pygments_lexer": "ipython3",
   "version": "3.7.4"
  }
 },
 "nbformat": 4,
 "nbformat_minor": 2
}
